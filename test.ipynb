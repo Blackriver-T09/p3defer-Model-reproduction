{
 "cells": [
  {
   "cell_type": "markdown",
   "metadata": {},
   "source": [
    "配置镜像\n"
   ]
  },
  {
   "cell_type": "code",
   "execution_count": 2,
   "metadata": {},
   "outputs": [],
   "source": [
    "import os\n",
    "os.environ['HF_ENDPOINT'] = 'hf-mirror.com'\n",
    "# os.environ['HF_ENDPOINT'] = 'alpha.hf-mirror.com'\n"
   ]
  },
  {
   "cell_type": "markdown",
   "metadata": {},
   "source": [
    "加载模型"
   ]
  },
  {
   "cell_type": "code",
   "execution_count": 4,
   "metadata": {},
   "outputs": [
    {
     "name": "stdout",
     "output_type": "stream",
     "text": [
      "[2025-05-18 12:58:25,381] [INFO] [real_accelerator.py:239:get_accelerator] Setting ds_accelerator to cuda (auto detect)\n"
     ]
    },
    {
     "name": "stderr",
     "output_type": "stream",
     "text": [
      "df: /home/chenjiayang/.triton/autotune: No such file or directory\n",
      "/home/chenjiayang/miniconda3/envs/p3defer/compiler_compat/ld: cannot find -laio: No such file or directory\n",
      "collect2: error: ld returned 1 exit status\n",
      "/home/chenjiayang/miniconda3/envs/p3defer/compiler_compat/ld: cannot find -lcufile: No such file or directory\n",
      "collect2: error: ld returned 1 exit status\n",
      "Loading checkpoint shards: 100%|██████████| 4/4 [00:02<00:00,  1.73it/s]\n"
     ]
    }
   ],
   "source": [
    "from transformers import AutoTokenizer, AutoModelForCausalLM\n",
    "\n",
    "model_path = \"./models/gemma-7b\"\n",
    "tokenizer = AutoTokenizer.from_pretrained(model_path)\n",
    "model = AutoModelForCausalLM.from_pretrained(model_path)"
   ]
  },
  {
   "cell_type": "markdown",
   "metadata": {},
   "source": [
    "加载数据集"
   ]
  },
  {
   "cell_type": "code",
   "execution_count": 7,
   "metadata": {},
   "outputs": [
    {
     "name": "stdout",
     "output_type": "stream",
     "text": [
      "{'question': 'Natalia sold clips to 48 of her friends in April, and then she sold half as many clips in May. How many clips did Natalia sell altogether in April and May?', 'answer': 'Natalia sold 48/2 = <<48/2=24>>24 clips in May.\\nNatalia sold 48+24 = <<48+24=72>>72 clips altogether in April and May.\\n#### 72'}\n"
     ]
    }
   ],
   "source": [
    "import json\n",
    "\n",
    "def load_gsm8k(path):\n",
    "    with open(path, encoding='utf-8') as f:\n",
    "        return [json.loads(line) for line in f]\n",
    "\n",
    "train_data = load_gsm8k('./data/gsm8k/train.jsonl')\n",
    "test_data = load_gsm8k('./data/gsm8k/test.jsonl')\n",
    "\n",
    "print(train_data[0])"
   ]
  },
  {
   "cell_type": "markdown",
   "metadata": {},
   "source": [
    "谷歌代码迁移的兼容性"
   ]
  },
  {
   "cell_type": "code",
   "execution_count": 8,
   "metadata": {},
   "outputs": [
    {
     "name": "stdout",
     "output_type": "stream",
     "text": [
      "1.0\n"
     ]
    }
   ],
   "source": [
    "from rouge_score import rouge_scorer, scoring\n",
    "\n",
    "scorer = rouge_scorer.RougeScorer([\"rouge1\", \"rougeL\"], use_stemmer=True)\n",
    "aggregator = scoring.BootstrapAggregator()\n",
    "\n",
    "scores = scorer.score(\"this is a test\", \"this is a test\")\n",
    "aggregator.add_scores(scores)\n",
    "\n",
    "result = aggregator.aggregate()\n",
    "print(result[\"rouge1\"].mid.fmeasure)\n"
   ]
  },
  {
   "cell_type": "markdown",
   "metadata": {},
   "source": [
    "放个佛祖"
   ]
  },
  {
   "cell_type": "code",
   "execution_count": 6,
   "metadata": {},
   "outputs": [
    {
     "name": "stdout",
     "output_type": "stream",
     "text": [
      "\u001b[1;33m                      _oo0oo_                     \n",
      "                     o8888888o                    \n",
      "                     88' . '88                    \n",
      "                     (| -_- |)                    \n",
      "                     0\\  =  /0                    \n",
      "                   ___/`---'\\___                  \n",
      "                 .' \\\\|     |// '.                \n",
      "                / \\\\|||  :  |||// \\               \n",
      "               / _||||| -:- |||||_ \\              \n",
      "              |   | \\\\\\  -  /// |   |             \n",
      "              | \\_|  ''\\---/''  |_/ |             \n",
      "              \\ .-\\___  '-'  ___/-. /             \n",
      "            ___'. .'  /--.--\\  `. .'___           \n",
      "          .'' '< `.___\\_<|>_/___.' >'  ''.        \n",
      "        | | ： `- \\`.;`\\ _ /`;.`/ - ` : | |       \n",
      "        \\  \\ `_.   \\_ __\\ /__ _/   .-` /  /       \n",
      "    =====`-.____`.___ \\_____/___.-`___.-`=====    \n",
      "                      `=---='                     \n",
      "    ~~~~~~~~~~~~~~~~~~~~~~~~~~~~~~~~~~~~~~~~~~    \n",
      "              菩提本无树  明镜亦非台              \n",
      "              本来无BUG   何必常修改              \u001b[0m\n"
     ]
    }
   ],
   "source": [
    "def cyber_buddha():\n",
    "    print(\"\\033[1;33m                      _oo0oo_                     \")\n",
    "    print(\"                     o8888888o                    \")\n",
    "    print(\"                     88' . '88                    \")\n",
    "    print(\"                     (| -_- |)                    \")\n",
    "    print(\"                     0\\\\  =  /0                    \")\n",
    "    print(\"                   ___/`---'\\\\___                  \")\n",
    "    print(\"                 .' \\\\\\\\|     |// '.                \")\n",
    "    print(\"                / \\\\\\\\|||  :  |||// \\\\               \")\n",
    "    print(\"               / _||||| -:- |||||_ \\\\              \")\n",
    "    print(\"              |   | \\\\\\\\\\\\  -  /// |   |             \")\n",
    "    print(\"              | \\\\_|  ''\\\\---/''  |_/ |             \")\n",
    "    print(\"              \\\\ .-\\\\___  '-'  ___/-. /             \")\n",
    "    print(\"            ___'. .'  /--.--\\\\  `. .'___           \")\n",
    "    print(\"          .'' '< `.___\\\\_<|>_/___.' >'  ''.        \")\n",
    "    print(\"        | | ： `- \\\\`.;`\\\\ _ /`;.`/ - ` : | |       \")\n",
    "    print(\"        \\\\  \\\\ `_.   \\\\_ __\\\\ /__ _/   .-` /  /       \")\n",
    "    print(\"    =====`-.____`.___ \\\\_____/___.-`___.-`=====    \")\n",
    "    print(\"                      `=---='                     \")\n",
    "    print(\"    ~~~~~~~~~~~~~~~~~~~~~~~~~~~~~~~~~~~~~~~~~~    \")\n",
    "    print(\"              菩提本无树  明镜亦非台              \")\n",
    "    print(\"              本来无BUG   何必常修改              \\033[0m\")\n",
    "\n",
    "cyber_buddha()\n"
   ]
  },
  {
   "cell_type": "markdown",
   "metadata": {},
   "source": [
    "云端服务器测试"
   ]
  },
  {
   "cell_type": "code",
   "execution_count": 1,
   "metadata": {},
   "outputs": [
    {
     "name": "stdout",
     "output_type": "stream",
     "text": [
      "Assume you're a student working on math problems.\n",
      "\n",
      "Question: What is 7 times 6?\n",
      "\n",
      "Output:\n",
      "Let's think step by step:\n",
      "1. 7 times 6 is 42.\n",
      "2. 7 times 6 is 42.\n",
      "3. 7 times 6 is 42.\n",
      "4. 7 times 6 is 42.\n",
      "5. 7 times 6 is 42.\n",
      "6. 7 times 6 is 42.\n",
      "7. 7 times 6 is 42.\n",
      "8. 7\n"
     ]
    }
   ],
   "source": [
    "import requests\n",
    "\n",
    "query = '''Assume you're a student working on math problems.\\n\n",
    "Question: What is 7 times 6?\\n\n",
    "Output:\n",
    "Let's think step by step:'''\n",
    "\n",
    "resp = requests.post(\"http://127.0.0.1:5000/predict\", json={\"query\": query})\n",
    "print(resp.json()[\"output\"])\n"
   ]
  }
 ],
 "metadata": {
  "kernelspec": {
   "display_name": "p3defer",
   "language": "python",
   "name": "python3"
  },
  "language_info": {
   "name": "python",
   "version": "3.10.16"
  }
 },
 "nbformat": 4,
 "nbformat_minor": 2
}
